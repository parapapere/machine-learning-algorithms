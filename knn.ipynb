{
  "cells": [
    {
      "cell_type": "markdown",
      "source": [
        "# **K-Nearest Neighbors (KNN) for Wine Classification**\n",
        "\n",
        "This notebook presents a K-Nearest Neighbors (KNN) algorithm for wine classification using a comprehensive wine dataset. The script leverages the scikit-learn library for dataset manipulation, splitting, and evaluation.\n",
        "\n",
        "The wine dataset is visualized using a scatter plot to showcase the distribution of classes. The colors represent different wine classes, offering a visual understanding of the dataset's structure.\n",
        "\n",
        "The KNN algorithm is implemented with a focus on flexibility and simplicity. It includes functions for calculating Euclidean distance, making single point predictions, and predicting multiple points. The algorithm's performance is tested on the validation and test datasets for different numbers of nearest neighbors (k).\n",
        "\n",
        "The accuracy of the KNN model is assessed using a confusion matrix and a classification report. The notebook explores the impact of varying the number of neighbors on model accuracy, providing insights into the optimal k value for this specific dataset.\n",
        "\n",
        "Note: Ensure that the required libraries are installed, and the paths to the dataset files are correctly specified before running the notebook."
      ],
      "metadata": {
        "id": "i9jXk4FNfH0i"
      }
    },
    {
      "cell_type": "markdown",
      "source": [
        "# **Importing**"
      ],
      "metadata": {
        "id": "D-qu2FJW2CQS"
      }
    },
    {
      "cell_type": "markdown",
      "source": [
        "## Libraries"
      ],
      "metadata": {
        "id": "jGh21KiB3LOT"
      }
    },
    {
      "cell_type": "code",
      "source": [
        "!pip install matplotlib"
      ],
      "metadata": {
        "id": "C2CEkNxlmcx3",
        "colab": {
          "base_uri": "https://localhost:8080/"
        },
        "outputId": "d9ee2ba1-25da-4c2f-8950-99957fbdf0ec"
      },
      "execution_count": null,
      "outputs": [
        {
          "output_type": "stream",
          "name": "stdout",
          "text": [
            "Looking in indexes: https://pypi.org/simple, https://us-python.pkg.dev/colab-wheels/public/simple/\n",
            "Requirement already satisfied: matplotlib in /usr/local/lib/python3.10/dist-packages (3.7.1)\n",
            "Requirement already satisfied: contourpy>=1.0.1 in /usr/local/lib/python3.10/dist-packages (from matplotlib) (1.0.7)\n",
            "Requirement already satisfied: cycler>=0.10 in /usr/local/lib/python3.10/dist-packages (from matplotlib) (0.11.0)\n",
            "Requirement already satisfied: fonttools>=4.22.0 in /usr/local/lib/python3.10/dist-packages (from matplotlib) (4.39.3)\n",
            "Requirement already satisfied: kiwisolver>=1.0.1 in /usr/local/lib/python3.10/dist-packages (from matplotlib) (1.4.4)\n",
            "Requirement already satisfied: numpy>=1.20 in /usr/local/lib/python3.10/dist-packages (from matplotlib) (1.22.4)\n",
            "Requirement already satisfied: packaging>=20.0 in /usr/local/lib/python3.10/dist-packages (from matplotlib) (23.1)\n",
            "Requirement already satisfied: pillow>=6.2.0 in /usr/local/lib/python3.10/dist-packages (from matplotlib) (8.4.0)\n",
            "Requirement already satisfied: pyparsing>=2.3.1 in /usr/local/lib/python3.10/dist-packages (from matplotlib) (3.0.9)\n",
            "Requirement already satisfied: python-dateutil>=2.7 in /usr/local/lib/python3.10/dist-packages (from matplotlib) (2.8.2)\n",
            "Requirement already satisfied: six>=1.5 in /usr/local/lib/python3.10/dist-packages (from python-dateutil>=2.7->matplotlib) (1.16.0)\n"
          ]
        }
      ]
    },
    {
      "cell_type": "code",
      "execution_count": null,
      "metadata": {
        "id": "xVLlnsAlhyQz"
      },
      "outputs": [],
      "source": [
        "import pandas as pd\n",
        "import numpy as np\n",
        "\n",
        "from statistics import mode\n",
        "\n",
        "from sklearn.model_selection import train_test_split\n",
        "\n",
        "import matplotlib.pyplot as plt\n",
        "from matplotlib.colors import ListedColormap\n",
        "\n",
        "from sklearn.metrics import classification_report\n",
        "import seaborn as sns"
      ]
    },
    {
      "cell_type": "markdown",
      "source": [
        "## Dataset"
      ],
      "metadata": {
        "id": "mE2JmE6h3PmD"
      }
    },
    {
      "cell_type": "code",
      "source": [
        "from google.colab import drive\n",
        "\n",
        "drive.mount('/drive')"
      ],
      "metadata": {
        "colab": {
          "base_uri": "https://localhost:8080/"
        },
        "id": "-hUjWXY_LfIB",
        "outputId": "c84787cb-72ea-4f18-a3c6-677f60bebdfa"
      },
      "execution_count": null,
      "outputs": [
        {
          "output_type": "stream",
          "name": "stdout",
          "text": [
            "Mounted at /drive\n"
          ]
        }
      ]
    },
    {
      "cell_type": "code",
      "source": [
        "train_dataset = pd.read_csv(\"/drive/My Drive/Colab Notebooks/Wine dataset/train.csv\")\n",
        "test_dataset = pd.read_csv(\"/drive/My Drive/Colab Notebooks/Wine dataset/test.csv\")\n",
        "validation_dataset = pd.read_csv(\"/drive/My Drive/Colab Notebooks/Wine dataset/validation.csv\")\n",
        "complete = pd.read_csv(\"/drive/My Drive/Colab Notebooks/Wine dataset/complete.csv\")"
      ],
      "metadata": {
        "id": "wMd8GGPGLfav"
      },
      "execution_count": null,
      "outputs": []
    },
    {
      "cell_type": "code",
      "source": [
        "train_dataset"
      ],
      "metadata": {
        "colab": {
          "base_uri": "https://localhost:8080/",
          "height": 424
        },
        "id": "04IQCNrOMCL7",
        "outputId": "43936ba0-5aaa-49f7-852d-4c912ef904b2"
      },
      "execution_count": null,
      "outputs": [
        {
          "output_type": "execute_result",
          "data": {
            "text/plain": [
              "     Unnamed: 0  class  Alcohol  Malic acid   Ash  Alcalinity of ash  \\\n",
              "0           115      2    11.82        1.47  1.99               20.8   \n",
              "1           168      3    13.40        4.60  2.86               25.0   \n",
              "2            38      1    14.22        3.99  2.51               13.2   \n",
              "3            41      1    13.88        1.89  2.59               15.0   \n",
              "4            29      1    13.73        1.50  2.70               22.5   \n",
              "..          ...    ...      ...         ...   ...                ...   \n",
              "119          89      2    12.08        1.83  2.32               18.5   \n",
              "120          39      1    13.56        1.71  2.31               16.2   \n",
              "121           7      1    14.83        1.64  2.17               14.0   \n",
              "122          60      2    12.64        1.36  2.02               16.8   \n",
              "123         172      3    13.71        5.65  2.45               20.5   \n",
              "\n",
              "     Magnesium  Total phenols  Flavanoids  Nonflavanoid phenols  \\\n",
              "0           86           1.98        1.60                  0.30   \n",
              "1          112           1.98        0.96                  0.27   \n",
              "2          128           3.00        3.04                  0.20   \n",
              "3          101           3.25        3.56                  0.17   \n",
              "4          101           3.00        3.25                  0.29   \n",
              "..         ...            ...         ...                   ...   \n",
              "119         81           1.60        1.50                  0.52   \n",
              "120        117           3.15        3.29                  0.34   \n",
              "121         97           2.80        2.98                  0.29   \n",
              "122        100           2.02        1.41                  0.53   \n",
              "123         95           1.68        0.61                  0.52   \n",
              "\n",
              "     Proanthocyanins  Color intensity   Hue  OD280/OD315 of diluted wines  \\\n",
              "0               1.53             1.95  0.95                          3.33   \n",
              "1               1.11             8.50  0.67                          1.92   \n",
              "2               2.08             5.10  0.89                          3.53   \n",
              "3               1.70             5.43  0.88                          3.56   \n",
              "4               2.38             5.70  1.19                          2.71   \n",
              "..               ...              ...   ...                           ...   \n",
              "119             1.64             2.40  1.08                          2.27   \n",
              "120             2.34             6.13  0.95                          3.38   \n",
              "121             1.98             5.20  1.08                          2.85   \n",
              "122             0.62             5.75  0.98                          1.59   \n",
              "123             1.06             7.70  0.64                          1.74   \n",
              "\n",
              "     Proline  \n",
              "0        495  \n",
              "1        630  \n",
              "2        760  \n",
              "3       1095  \n",
              "4       1285  \n",
              "..       ...  \n",
              "119      480  \n",
              "120      795  \n",
              "121     1045  \n",
              "122      450  \n",
              "123      740  \n",
              "\n",
              "[124 rows x 15 columns]"
            ],
            "text/html": [
              "\n",
              "  <div id=\"df-9a6cce6c-67c5-460e-a933-a675bfede375\">\n",
              "    <div class=\"colab-df-container\">\n",
              "      <div>\n",
              "<style scoped>\n",
              "    .dataframe tbody tr th:only-of-type {\n",
              "        vertical-align: middle;\n",
              "    }\n",
              "\n",
              "    .dataframe tbody tr th {\n",
              "        vertical-align: top;\n",
              "    }\n",
              "\n",
              "    .dataframe thead th {\n",
              "        text-align: right;\n",
              "    }\n",
              "</style>\n",
              "<table border=\"1\" class=\"dataframe\">\n",
              "  <thead>\n",
              "    <tr style=\"text-align: right;\">\n",
              "      <th></th>\n",
              "      <th>Unnamed: 0</th>\n",
              "      <th>class</th>\n",
              "      <th>Alcohol</th>\n",
              "      <th>Malic acid</th>\n",
              "      <th>Ash</th>\n",
              "      <th>Alcalinity of ash</th>\n",
              "      <th>Magnesium</th>\n",
              "      <th>Total phenols</th>\n",
              "      <th>Flavanoids</th>\n",
              "      <th>Nonflavanoid phenols</th>\n",
              "      <th>Proanthocyanins</th>\n",
              "      <th>Color intensity</th>\n",
              "      <th>Hue</th>\n",
              "      <th>OD280/OD315 of diluted wines</th>\n",
              "      <th>Proline</th>\n",
              "    </tr>\n",
              "  </thead>\n",
              "  <tbody>\n",
              "    <tr>\n",
              "      <th>0</th>\n",
              "      <td>115</td>\n",
              "      <td>2</td>\n",
              "      <td>11.82</td>\n",
              "      <td>1.47</td>\n",
              "      <td>1.99</td>\n",
              "      <td>20.8</td>\n",
              "      <td>86</td>\n",
              "      <td>1.98</td>\n",
              "      <td>1.60</td>\n",
              "      <td>0.30</td>\n",
              "      <td>1.53</td>\n",
              "      <td>1.95</td>\n",
              "      <td>0.95</td>\n",
              "      <td>3.33</td>\n",
              "      <td>495</td>\n",
              "    </tr>\n",
              "    <tr>\n",
              "      <th>1</th>\n",
              "      <td>168</td>\n",
              "      <td>3</td>\n",
              "      <td>13.40</td>\n",
              "      <td>4.60</td>\n",
              "      <td>2.86</td>\n",
              "      <td>25.0</td>\n",
              "      <td>112</td>\n",
              "      <td>1.98</td>\n",
              "      <td>0.96</td>\n",
              "      <td>0.27</td>\n",
              "      <td>1.11</td>\n",
              "      <td>8.50</td>\n",
              "      <td>0.67</td>\n",
              "      <td>1.92</td>\n",
              "      <td>630</td>\n",
              "    </tr>\n",
              "    <tr>\n",
              "      <th>2</th>\n",
              "      <td>38</td>\n",
              "      <td>1</td>\n",
              "      <td>14.22</td>\n",
              "      <td>3.99</td>\n",
              "      <td>2.51</td>\n",
              "      <td>13.2</td>\n",
              "      <td>128</td>\n",
              "      <td>3.00</td>\n",
              "      <td>3.04</td>\n",
              "      <td>0.20</td>\n",
              "      <td>2.08</td>\n",
              "      <td>5.10</td>\n",
              "      <td>0.89</td>\n",
              "      <td>3.53</td>\n",
              "      <td>760</td>\n",
              "    </tr>\n",
              "    <tr>\n",
              "      <th>3</th>\n",
              "      <td>41</td>\n",
              "      <td>1</td>\n",
              "      <td>13.88</td>\n",
              "      <td>1.89</td>\n",
              "      <td>2.59</td>\n",
              "      <td>15.0</td>\n",
              "      <td>101</td>\n",
              "      <td>3.25</td>\n",
              "      <td>3.56</td>\n",
              "      <td>0.17</td>\n",
              "      <td>1.70</td>\n",
              "      <td>5.43</td>\n",
              "      <td>0.88</td>\n",
              "      <td>3.56</td>\n",
              "      <td>1095</td>\n",
              "    </tr>\n",
              "    <tr>\n",
              "      <th>4</th>\n",
              "      <td>29</td>\n",
              "      <td>1</td>\n",
              "      <td>13.73</td>\n",
              "      <td>1.50</td>\n",
              "      <td>2.70</td>\n",
              "      <td>22.5</td>\n",
              "      <td>101</td>\n",
              "      <td>3.00</td>\n",
              "      <td>3.25</td>\n",
              "      <td>0.29</td>\n",
              "      <td>2.38</td>\n",
              "      <td>5.70</td>\n",
              "      <td>1.19</td>\n",
              "      <td>2.71</td>\n",
              "      <td>1285</td>\n",
              "    </tr>\n",
              "    <tr>\n",
              "      <th>...</th>\n",
              "      <td>...</td>\n",
              "      <td>...</td>\n",
              "      <td>...</td>\n",
              "      <td>...</td>\n",
              "      <td>...</td>\n",
              "      <td>...</td>\n",
              "      <td>...</td>\n",
              "      <td>...</td>\n",
              "      <td>...</td>\n",
              "      <td>...</td>\n",
              "      <td>...</td>\n",
              "      <td>...</td>\n",
              "      <td>...</td>\n",
              "      <td>...</td>\n",
              "      <td>...</td>\n",
              "    </tr>\n",
              "    <tr>\n",
              "      <th>119</th>\n",
              "      <td>89</td>\n",
              "      <td>2</td>\n",
              "      <td>12.08</td>\n",
              "      <td>1.83</td>\n",
              "      <td>2.32</td>\n",
              "      <td>18.5</td>\n",
              "      <td>81</td>\n",
              "      <td>1.60</td>\n",
              "      <td>1.50</td>\n",
              "      <td>0.52</td>\n",
              "      <td>1.64</td>\n",
              "      <td>2.40</td>\n",
              "      <td>1.08</td>\n",
              "      <td>2.27</td>\n",
              "      <td>480</td>\n",
              "    </tr>\n",
              "    <tr>\n",
              "      <th>120</th>\n",
              "      <td>39</td>\n",
              "      <td>1</td>\n",
              "      <td>13.56</td>\n",
              "      <td>1.71</td>\n",
              "      <td>2.31</td>\n",
              "      <td>16.2</td>\n",
              "      <td>117</td>\n",
              "      <td>3.15</td>\n",
              "      <td>3.29</td>\n",
              "      <td>0.34</td>\n",
              "      <td>2.34</td>\n",
              "      <td>6.13</td>\n",
              "      <td>0.95</td>\n",
              "      <td>3.38</td>\n",
              "      <td>795</td>\n",
              "    </tr>\n",
              "    <tr>\n",
              "      <th>121</th>\n",
              "      <td>7</td>\n",
              "      <td>1</td>\n",
              "      <td>14.83</td>\n",
              "      <td>1.64</td>\n",
              "      <td>2.17</td>\n",
              "      <td>14.0</td>\n",
              "      <td>97</td>\n",
              "      <td>2.80</td>\n",
              "      <td>2.98</td>\n",
              "      <td>0.29</td>\n",
              "      <td>1.98</td>\n",
              "      <td>5.20</td>\n",
              "      <td>1.08</td>\n",
              "      <td>2.85</td>\n",
              "      <td>1045</td>\n",
              "    </tr>\n",
              "    <tr>\n",
              "      <th>122</th>\n",
              "      <td>60</td>\n",
              "      <td>2</td>\n",
              "      <td>12.64</td>\n",
              "      <td>1.36</td>\n",
              "      <td>2.02</td>\n",
              "      <td>16.8</td>\n",
              "      <td>100</td>\n",
              "      <td>2.02</td>\n",
              "      <td>1.41</td>\n",
              "      <td>0.53</td>\n",
              "      <td>0.62</td>\n",
              "      <td>5.75</td>\n",
              "      <td>0.98</td>\n",
              "      <td>1.59</td>\n",
              "      <td>450</td>\n",
              "    </tr>\n",
              "    <tr>\n",
              "      <th>123</th>\n",
              "      <td>172</td>\n",
              "      <td>3</td>\n",
              "      <td>13.71</td>\n",
              "      <td>5.65</td>\n",
              "      <td>2.45</td>\n",
              "      <td>20.5</td>\n",
              "      <td>95</td>\n",
              "      <td>1.68</td>\n",
              "      <td>0.61</td>\n",
              "      <td>0.52</td>\n",
              "      <td>1.06</td>\n",
              "      <td>7.70</td>\n",
              "      <td>0.64</td>\n",
              "      <td>1.74</td>\n",
              "      <td>740</td>\n",
              "    </tr>\n",
              "  </tbody>\n",
              "</table>\n",
              "<p>124 rows × 15 columns</p>\n",
              "</div>\n",
              "      <button class=\"colab-df-convert\" onclick=\"convertToInteractive('df-9a6cce6c-67c5-460e-a933-a675bfede375')\"\n",
              "              title=\"Convert this dataframe to an interactive table.\"\n",
              "              style=\"display:none;\">\n",
              "        \n",
              "  <svg xmlns=\"http://www.w3.org/2000/svg\" height=\"24px\"viewBox=\"0 0 24 24\"\n",
              "       width=\"24px\">\n",
              "    <path d=\"M0 0h24v24H0V0z\" fill=\"none\"/>\n",
              "    <path d=\"M18.56 5.44l.94 2.06.94-2.06 2.06-.94-2.06-.94-.94-2.06-.94 2.06-2.06.94zm-11 1L8.5 8.5l.94-2.06 2.06-.94-2.06-.94L8.5 2.5l-.94 2.06-2.06.94zm10 10l.94 2.06.94-2.06 2.06-.94-2.06-.94-.94-2.06-.94 2.06-2.06.94z\"/><path d=\"M17.41 7.96l-1.37-1.37c-.4-.4-.92-.59-1.43-.59-.52 0-1.04.2-1.43.59L10.3 9.45l-7.72 7.72c-.78.78-.78 2.05 0 2.83L4 21.41c.39.39.9.59 1.41.59.51 0 1.02-.2 1.41-.59l7.78-7.78 2.81-2.81c.8-.78.8-2.07 0-2.86zM5.41 20L4 18.59l7.72-7.72 1.47 1.35L5.41 20z\"/>\n",
              "  </svg>\n",
              "      </button>\n",
              "      \n",
              "  <style>\n",
              "    .colab-df-container {\n",
              "      display:flex;\n",
              "      flex-wrap:wrap;\n",
              "      gap: 12px;\n",
              "    }\n",
              "\n",
              "    .colab-df-convert {\n",
              "      background-color: #E8F0FE;\n",
              "      border: none;\n",
              "      border-radius: 50%;\n",
              "      cursor: pointer;\n",
              "      display: none;\n",
              "      fill: #1967D2;\n",
              "      height: 32px;\n",
              "      padding: 0 0 0 0;\n",
              "      width: 32px;\n",
              "    }\n",
              "\n",
              "    .colab-df-convert:hover {\n",
              "      background-color: #E2EBFA;\n",
              "      box-shadow: 0px 1px 2px rgba(60, 64, 67, 0.3), 0px 1px 3px 1px rgba(60, 64, 67, 0.15);\n",
              "      fill: #174EA6;\n",
              "    }\n",
              "\n",
              "    [theme=dark] .colab-df-convert {\n",
              "      background-color: #3B4455;\n",
              "      fill: #D2E3FC;\n",
              "    }\n",
              "\n",
              "    [theme=dark] .colab-df-convert:hover {\n",
              "      background-color: #434B5C;\n",
              "      box-shadow: 0px 1px 3px 1px rgba(0, 0, 0, 0.15);\n",
              "      filter: drop-shadow(0px 1px 2px rgba(0, 0, 0, 0.3));\n",
              "      fill: #FFFFFF;\n",
              "    }\n",
              "  </style>\n",
              "\n",
              "      <script>\n",
              "        const buttonEl =\n",
              "          document.querySelector('#df-9a6cce6c-67c5-460e-a933-a675bfede375 button.colab-df-convert');\n",
              "        buttonEl.style.display =\n",
              "          google.colab.kernel.accessAllowed ? 'block' : 'none';\n",
              "\n",
              "        async function convertToInteractive(key) {\n",
              "          const element = document.querySelector('#df-9a6cce6c-67c5-460e-a933-a675bfede375');\n",
              "          const dataTable =\n",
              "            await google.colab.kernel.invokeFunction('convertToInteractive',\n",
              "                                                     [key], {});\n",
              "          if (!dataTable) return;\n",
              "\n",
              "          const docLinkHtml = 'Like what you see? Visit the ' +\n",
              "            '<a target=\"_blank\" href=https://colab.research.google.com/notebooks/data_table.ipynb>data table notebook</a>'\n",
              "            + ' to learn more about interactive tables.';\n",
              "          element.innerHTML = '';\n",
              "          dataTable['output_type'] = 'display_data';\n",
              "          await google.colab.output.renderOutput(dataTable, element);\n",
              "          const docLink = document.createElement('div');\n",
              "          docLink.innerHTML = docLinkHtml;\n",
              "          element.appendChild(docLink);\n",
              "        }\n",
              "      </script>\n",
              "    </div>\n",
              "  </div>\n",
              "  "
            ]
          },
          "metadata": {},
          "execution_count": 6
        }
      ]
    },
    {
      "cell_type": "code",
      "source": [
        "X_train = train_dataset\n",
        "y_train = X_train.pop('class')\n",
        "X_test = test_dataset\n",
        "y_test = X_test.pop('class')"
      ],
      "metadata": {
        "id": "qiyxv8jjMtWu"
      },
      "execution_count": null,
      "outputs": []
    },
    {
      "cell_type": "code",
      "execution_count": null,
      "metadata": {
        "id": "zLkp_dW9iiLw"
      },
      "outputs": [],
      "source": [
        "#complete_wine_data = pd.read_csv(\"https://archive.ics.uci.edu/ml/machine-learning-databases/wine/wine.data\")"
      ]
    },
    {
      "cell_type": "code",
      "execution_count": null,
      "metadata": {
        "id": "JFGd2oLxQzc9"
      },
      "outputs": [],
      "source": [
        "#columns = [\"class\", \"Alcohol\", \"Malic acid\", \"Ash\",\t\"Alcalinity of ash\", \"Magnesium\",\t\"Total phenols\", \"Flavanoids\", \"Nonflavanoid phenols\", \"Proanthocyanins\", \"Color intensity\", \"Hue\",\t\"OD280/OD315 of diluted wines\",\t\"Proline\"]\n",
        "\n",
        "#complete_wine_data.columns = columns"
      ]
    },
    {
      "cell_type": "code",
      "source": [
        "#complete_wine_data"
      ],
      "metadata": {
        "id": "CxnPTesLtmWH"
      },
      "execution_count": null,
      "outputs": []
    },
    {
      "cell_type": "code",
      "execution_count": null,
      "metadata": {
        "id": "beFulRtmVmsn"
      },
      "outputs": [],
      "source": [
        "#X = complete_wine_data\n",
        "#y = X.pop(\"class\")"
      ]
    },
    {
      "cell_type": "code",
      "execution_count": null,
      "metadata": {
        "id": "7Wo5CVibjGWJ"
      },
      "outputs": [],
      "source": [
        "#X_train, X_test, y_train, y_test = train_test_split(X, y,  test_size = 0.2, random_state=0)"
      ]
    },
    {
      "cell_type": "markdown",
      "source": [
        "# **Presenting data**"
      ],
      "metadata": {
        "id": "u4EqUbIR3wLS"
      }
    },
    {
      "cell_type": "code",
      "source": [
        "X = complete\n",
        "y = X.pop('class')"
      ],
      "metadata": {
        "id": "3SDUZqMdOP2k"
      },
      "execution_count": null,
      "outputs": []
    },
    {
      "cell_type": "code",
      "execution_count": null,
      "metadata": {
        "colab": {
          "base_uri": "https://localhost:8080/",
          "height": 432
        },
        "id": "BXzsLioxplun",
        "outputId": "81d21a32-53bd-47c0-cf57-1dbf429dc837"
      },
      "outputs": [
        {
          "output_type": "display_data",
          "data": {
            "text/plain": [
              "<Figure size 640x480 with 1 Axes>"
            ],
            "image/png": "[encoded data removed]"
          },
          "metadata": {}
        }
      ],
      "source": [
        "cmap=ListedColormap(['#FF0000', '#00FF00', '#0000FF'])\n",
        "\n",
        "plt.figure()\n",
        "plt.scatter(X.iloc[:, 1], X.iloc[:, 2], c=y, cmap=cmap, edgecolor='k', s=20)\n",
        "plt.show()"
      ]
    },
    {
      "cell_type": "markdown",
      "source": [
        "# **Algorithm implementation**"
      ],
      "metadata": {
        "id": "j2hkuNEG4D17"
      }
    },
    {
      "cell_type": "markdown",
      "source": [
        "## Defining distance (Eucledian)"
      ],
      "metadata": {
        "id": "l9ltFO2J4QDy"
      }
    },
    {
      "cell_type": "code",
      "execution_count": null,
      "metadata": {
        "id": "kV19snuHzJbx"
      },
      "outputs": [],
      "source": [
        "def eucledian_distnce(a, b):\n",
        "  return np.sqrt(np.sum(a-b)**2)"
      ]
    },
    {
      "cell_type": "markdown",
      "source": [
        "## One point prediction"
      ],
      "metadata": {
        "id": "BB6vbTkm4Y2S"
      }
    },
    {
      "cell_type": "code",
      "execution_count": null,
      "metadata": {
        "id": "oWfQtAb4zD3j"
      },
      "outputs": [],
      "source": [
        "def single_predict(point, k):\n",
        "\n",
        "  distance = []\n",
        "\n",
        "  for ind in X_train.index:\n",
        "    for point_feature in point:\n",
        "      distances = [eucledian_distnce(point_feature, x_train) for x_train in X_train.loc[ind]]\n",
        "    distance.append(sum(distances))\n",
        "\n",
        "  all_distance = pd.Series(distance, X_train.index)\n",
        "  k_indices = all_distance.sort_values()[:k].index\n",
        "  k_nearest_classes = [y_train[i] for i in k_indices]\n",
        "\n",
        "  return mode(k_nearest_classes)"
      ]
    },
    {
      "cell_type": "markdown",
      "source": [
        "## Multiple prediction"
      ],
      "metadata": {
        "id": "3EK7NMoj4p6k"
      }
    },
    {
      "cell_type": "code",
      "execution_count": null,
      "metadata": {
        "id": "5ZgHbiDI2pCS"
      },
      "outputs": [],
      "source": [
        "def multiple_predict(data, k):\n",
        "  predicted_labels = [single_predict(data_point, k) for data_point in data]\n",
        "  return predicted_labels"
      ]
    },
    {
      "cell_type": "markdown",
      "source": [
        "# **Testing algorythm**"
      ],
      "metadata": {
        "id": "hSjuSW-e44pJ"
      }
    },
    {
      "cell_type": "markdown",
      "source": [
        "## Testing for 5 near neighbors on validation data\n",
        "\n",
        "---\n",
        "\n"
      ],
      "metadata": {
        "id": "Os7slIQt5ojU"
      }
    },
    {
      "cell_type": "code",
      "source": [
        "predictions = multiple_predict(X_test.to_numpy(), 18)"
      ],
      "metadata": {
        "id": "xpXbh8mvPrUJ"
      },
      "execution_count": null,
      "outputs": []
    },
    {
      "cell_type": "code",
      "execution_count": null,
      "metadata": {
        "colab": {
          "base_uri": "https://localhost:8080/"
        },
        "id": "ZMNtRvRv5ap6",
        "outputId": "d42ddb28-1d32-48db-9a56-38d9d665a00d"
      },
      "outputs": [
        {
          "output_type": "stream",
          "name": "stdout",
          "text": [
            "Accurance for 5 neighbours: 58.33%\n"
          ]
        }
      ],
      "source": [
        "accurance = np.sum(predictions == y_test.values) / len(y_test.values)\n",
        "\n",
        "print(f\"Accurance for 5 neighbours: {accurance:.2%}\")"
      ]
    },
    {
      "cell_type": "code",
      "source": [
        "def comp_confmat(actual, predicted):\n",
        "\n",
        "    classes = np.unique(actual)\n",
        "\n",
        "    confmat = np.zeros((len(classes), len(classes)))\n",
        "\n",
        "    for i in range(len(classes)):\n",
        "        for j in range(len(classes)):\n",
        "\n",
        "           confmat[i, j] = np.sum((actual == classes[i]) & (predicted == classes[j]))\n",
        "\n",
        "    return confmat"
      ],
      "metadata": {
        "id": "cqkvlBkEmSBw"
      },
      "execution_count": null,
      "outputs": []
    },
    {
      "cell_type": "code",
      "source": [
        "con_matrix = comp_confmat(predictions, y_test)"
      ],
      "metadata": {
        "id": "3qcC7bqkmZzC"
      },
      "execution_count": null,
      "outputs": []
    },
    {
      "cell_type": "code",
      "source": [
        "con_matrix"
      ],
      "metadata": {
        "colab": {
          "base_uri": "https://localhost:8080/"
        },
        "id": "4J0V2bbQ8thk",
        "outputId": "2a03a8bb-c3d2-450f-f002-ab2d3d22590f"
      },
      "execution_count": null,
      "outputs": [
        {
          "output_type": "execute_result",
          "data": {
            "text/plain": [
              "array([[ 7.,  0.,  0.],\n",
              "       [ 0.,  2.,  0.],\n",
              "       [ 4., 11., 12.]])"
            ]
          },
          "metadata": {},
          "execution_count": 31
        }
      ]
    },
    {
      "cell_type": "code",
      "source": [
        "plt.figure(figsize=(10,10))\n",
        "sns.heatmap(con_matrix, annot=True, fmt=\".3f\", linewidths=.5, square = True, cmap = 'Blues_r', yticklabels = y.unique(), xticklabels = y.unique())\n",
        "plt.ylabel('Actual label')\n",
        "plt.xlabel('Predicted label')\n",
        "all_sample_title = f'Model Accuracy Score: {accurance:.2%}'\n",
        "plt.title(all_sample_title)"
      ],
      "metadata": {
        "colab": {
          "base_uri": "https://localhost:8080/",
          "height": 837
        },
        "id": "Icax3muX9T6d",
        "outputId": "ec89679f-1ace-4cf8-e317-5c19734990dd"
      },
      "execution_count": null,
      "outputs": [
        {
          "output_type": "execute_result",
          "data": {
            "text/plain": [
              "Text(0.5, 1.0, 'Model Accuracy Score: 58.33%')"
            ]
          },
          "metadata": {},
          "execution_count": 32
        },
        {
          "output_type": "display_data",
          "data": {
            "text/plain": [
              "<Figure size 1000x1000 with 2 Axes>"
            ],
            "image/png": "[encoded data removed]"
          },
          "metadata": {}
        }
      ]
    },
    {
      "cell_type": "code",
      "source": [
        "print(classification_report(y_test, predictions, target_names=['1', '2', '3']))"
      ],
      "metadata": {
        "colab": {
          "base_uri": "https://localhost:8080/"
        },
        "id": "mVw-eslo-3ML",
        "outputId": "7ad078cd-381d-4520-ac9c-35dbb801d424"
      },
      "execution_count": null,
      "outputs": [
        {
          "output_type": "stream",
          "name": "stdout",
          "text": [
            "              precision    recall  f1-score   support\n",
            "\n",
            "           1       1.00      0.64      0.78        11\n",
            "           2       1.00      0.15      0.27        13\n",
            "           3       0.44      1.00      0.62        12\n",
            "\n",
            "    accuracy                           0.58        36\n",
            "   macro avg       0.81      0.60      0.55        36\n",
            "weighted avg       0.81      0.58      0.54        36\n",
            "\n"
          ]
        }
      ]
    },
    {
      "cell_type": "markdown",
      "source": [
        "## Testing for 5 near neighbors on testing data"
      ],
      "metadata": {
        "id": "2JnPCqi0PbOo"
      }
    },
    {
      "cell_type": "markdown",
      "source": [
        "## Testing algorithm for diferent number of neighbours"
      ],
      "metadata": {
        "id": "OJWxh2mtDWNg"
      }
    },
    {
      "cell_type": "code",
      "source": [
        "accurance_for_knn = []\n",
        "\n",
        "for k in range(1, 21):\n",
        "  predictions = multiple_predict(X_test.to_numpy(), k)\n",
        "  accurance = np.sum(predictions == y_test.values) / len(y_test.values)\n",
        "  print(f\"Accurance for {k} neighbours: {accurance:.2%}\")\n",
        "  accurance_for_knn.append(accurance)"
      ],
      "metadata": {
        "colab": {
          "base_uri": "https://localhost:8080/"
        },
        "id": "mQccIBlqSuSn",
        "outputId": "25f65783-efb4-43f0-e945-317507d9916c"
      },
      "execution_count": null,
      "outputs": [
        {
          "output_type": "stream",
          "name": "stdout",
          "text": [
            "Accurance for 1 neighbours: 58.33%\n",
            "Accurance for 2 neighbours: 58.33%\n",
            "Accurance for 3 neighbours: 52.78%\n",
            "Accurance for 4 neighbours: 52.78%\n",
            "Accurance for 5 neighbours: 52.78%\n",
            "Accurance for 6 neighbours: 52.78%\n",
            "Accurance for 7 neighbours: 52.78%\n",
            "Accurance for 8 neighbours: 55.56%\n",
            "Accurance for 9 neighbours: 58.33%\n",
            "Accurance for 10 neighbours: 58.33%\n",
            "Accurance for 11 neighbours: 58.33%\n",
            "Accurance for 12 neighbours: 61.11%\n",
            "Accurance for 13 neighbours: 58.33%\n",
            "Accurance for 14 neighbours: 58.33%\n",
            "Accurance for 15 neighbours: 58.33%\n",
            "Accurance for 16 neighbours: 58.33%\n",
            "Accurance for 17 neighbours: 58.33%\n",
            "Accurance for 18 neighbours: 58.33%\n",
            "Accurance for 19 neighbours: 58.33%\n",
            "Accurance for 20 neighbours: 61.11%\n"
          ]
        }
      ]
    },
    {
      "cell_type": "code",
      "source": [
        "plt.figsize=(10,15)\n",
        "plt.scatter(range(1,21,1), accurance_for_knn)\n",
        "plt.ylabel('Accurance')\n",
        "plt.xlabel('Near neighbours')\n",
        "plt.xticks(range(0, 22, 2))\n",
        "plt.title(\"Dependency between k and accuracy\")\n",
        "plt.show()"
      ],
      "metadata": {
        "colab": {
          "base_uri": "https://localhost:8080/",
          "height": 472
        },
        "id": "16lwaMaPWgdY",
        "outputId": "a60e86e2-0196-4cd0-9a31-f3b22d63ade6"
      },
      "execution_count": null,
      "outputs": [
        {
          "output_type": "display_data",
          "data": {
            "text/plain": [
              "<Figure size 640x480 with 1 Axes>"
            ],
            "image/png": "[encoded data removed]"
          },
          "metadata": {}
        }
      ]
    }
  ],
  "metadata": {
    "colab": {
      "provenance": []
    },
    "kernelspec": {
      "display_name": "Python 3",
      "name": "python3"
    },
    "language_info": {
      "name": "python"
    }
  },
  "nbformat": 4,
  "nbformat_minor": 0
}